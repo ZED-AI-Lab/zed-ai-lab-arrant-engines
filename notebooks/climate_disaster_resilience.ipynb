{
 "cells": [
  {
   "cell_type": "markdown",
   "id": "1c834c43",
   "metadata": {},
   "source": [
    "# 🌍 Climate & Disaster Resilience"
   ]
  },
  {
   "cell_type": "code",
   "execution_count": null,
   "id": "6f8ed815",
   "metadata": {},
   "outputs": [],
   "source": [
    "import pandas as pd\n",
    "import matplotlib.pyplot as plt\n",
    "import seaborn as sns\n",
    "sns.set(style='whitegrid')"
   ]
  },
  {
   "cell_type": "code",
   "execution_count": null,
   "id": "67228a31",
   "metadata": {},
   "outputs": [],
   "source": [
    "url = 'https://raw.githubusercontent.com/ZED-AI-Lab/zed-ai-lab-arrant-engines/main/datasets/climate_disaster_dataset.csv'\n",
    "df = pd.read_csv(url)\n",
    "df.head()"
   ]
  },
  {
   "cell_type": "code",
   "execution_count": null,
   "id": "bb24d65b",
   "metadata": {},
   "outputs": [],
   "source": [
    "df.info()"
   ]
  },
  {
   "cell_type": "code",
   "execution_count": null,
   "id": "f7e62659",
   "metadata": {},
   "outputs": [],
   "source": [
    "df.describe()"
   ]
  },
  {
   "cell_type": "code",
   "execution_count": null,
   "id": "40b3f533",
   "metadata": {},
   "outputs": [],
   "source": [
    "# Rainfall Trend\n",
    "sns.lineplot(data=df, x='Date', y='Rainfall_mm', hue='Region')\n",
    "plt.title('Rainfall Over Time')\n",
    "plt.xticks(rotation=45)\n",
    "plt.tight_layout()\n",
    "plt.show()"
   ]
  },
  {
   "cell_type": "code",
   "execution_count": null,
   "id": "401ab4c3",
   "metadata": {},
   "outputs": [],
   "source": [
    "# Flood Incidents Barplot\n",
    "sns.barplot(data=df, x='Region', y='Flood_Incidents', estimator='sum')\n",
    "plt.title('Total Flood Incidents by Region')\n",
    "plt.tight_layout()\n",
    "plt.show()"
   ]
  }
 ],
 "metadata": {},
 "nbformat": 4,
 "nbformat_minor": 5
}
