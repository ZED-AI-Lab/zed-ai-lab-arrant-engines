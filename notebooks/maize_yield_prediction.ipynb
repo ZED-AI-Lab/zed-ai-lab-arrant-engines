{
 "cells": [
  {
   "cell_type": "markdown",
   "id": "38827b81",
   "metadata": {},
   "source": [
    "# 🌽 Maize Yield Prediction (Zambia Dataset)\n",
    "Welcome to this AI/ML notebook based on a synthetic dataset simulating Zambian agriculture data. This notebook demonstrates how to load the dataset, perform EDA, train a model, and evaluate its performance.\n",
    "\n",
    "**Created by: Abel Bihinda**"
   ]
  },
  {
   "cell_type": "code",
   "execution_count": null,
   "id": "0a3a26f6",
   "metadata": {},
   "outputs": [],
   "source": [
    "import pandas as pd\n",
    "import numpy as np\n",
    "import matplotlib.pyplot as plt\n",
    "import seaborn as sns\n",
    "from sklearn.model_selection import train_test_split\n",
    "from sklearn.preprocessing import LabelEncoder\n",
    "from sklearn.ensemble import RandomForestRegressor\n",
    "from sklearn.metrics import mean_squared_error, r2_score\n",
    "import joblib\n"
   ]
  },
  {
   "cell_type": "code",
   "execution_count": null,
   "id": "715b63a7",
   "metadata": {},
   "outputs": [],
   "source": [
    "# Load the dataset\n",
    "df = pd.read_csv('../datasets/maize_yield_dataset.csv')\n",
    "df.head()\n"
   ]
  },
  {
   "cell_type": "code",
   "execution_count": null,
   "id": "9032ef7b",
   "metadata": {},
   "outputs": [],
   "source": [
    "# Check dataset info\n",
    "df.info()\n"
   ]
  },
  {
   "cell_type": "code",
   "execution_count": null,
   "id": "fcec6272",
   "metadata": {},
   "outputs": [],
   "source": [
    "# Visualize numerical features\n",
    "df.hist(figsize=(12, 8))\n",
    "plt.tight_layout()\n",
    "plt.show()\n"
   ]
  },
  {
   "cell_type": "code",
   "execution_count": null,
   "id": "8d023869",
   "metadata": {},
   "outputs": [],
   "source": [
    "# Encode categorical variables\n",
    "le = LabelEncoder()\n",
    "for col in ['Province', 'Soil_Type', 'Seed_Variety', 'Pesticide_Usage']:\n",
    "    df[col] = le.fit_transform(df[col])\n",
    "df.head()\n"
   ]
  },
  {
   "cell_type": "code",
   "execution_count": null,
   "id": "5aae6ccf",
   "metadata": {},
   "outputs": [],
   "source": [
    "X = df.drop('Yield_tons_per_hectare', axis=1)\n",
    "y = df['Yield_tons_per_hectare']\n",
    "X_train, X_test, y_train, y_test = train_test_split(X, y, test_size=0.2, random_state=42)\n"
   ]
  },
  {
   "cell_type": "code",
   "execution_count": null,
   "id": "8e2c81b1",
   "metadata": {},
   "outputs": [],
   "source": [
    "# Train Random Forest model\n",
    "model = RandomForestRegressor(n_estimators=100, random_state=42)\n",
    "model.fit(X_train, y_train)\n",
    "\n",
    "# Save the model\n",
    "joblib.dump(model, '../models/maize_yield_model.pkl')\n"
   ]
  },
  {
   "cell_type": "code",
   "execution_count": null,
   "id": "f76b05b4",
   "metadata": {},
   "outputs": [],
   "source": [
    "# Predict and evaluate\n",
    "y_pred = model.predict(X_test)\n",
    "mse = mean_squared_error(y_test, y_pred)\n",
    "r2 = r2_score(y_test, y_pred)\n",
    "\n",
    "print(f\"Mean Squared Error: {mse:.2f}\")\n",
    "print(f\"R-squared Score: {r2:.2f}\")\n"
   ]
  }
 ],
 "metadata": {
  "kernelspec": {
   "display_name": "Python 3",
   "name": "python3"
  },
  "language_info": {
   "name": "python",
   "version": "3.11"
  }
 },
 "nbformat": 4,
 "nbformat_minor": 5
}