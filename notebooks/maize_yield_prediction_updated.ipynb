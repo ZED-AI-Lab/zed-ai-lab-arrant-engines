{
 "cells": [
  {
   "cell_type": "markdown",
   "id": "38827b81",
   "metadata": {},
   "source": [
    "# 🌽 Maize Yield Prediction (Zambia Dataset)\n",
    "Welcome to this AI/ML notebook based on a synthetic dataset simulating Zambian agriculture data. This notebook demonstrates how to load the dataset, perform EDA, train a model, and evaluate its performance.\n",
    "\n",
    "**Created by: Abel Bihinda**"
   ]
  },
  {
   "cell_type": "code",
   "execution_count": 1,
   "id": "0a3a26f6",
   "metadata": {},
   "outputs": [],
   "source": [
    "import pandas as pd\n",
    "import numpy as np\n",
    "import matplotlib.pyplot as plt\n",
    "import seaborn as sns\n",
    "from sklearn.model_selection import train_test_split\n",
    "from sklearn.preprocessing import LabelEncoder\n",
    "from sklearn.ensemble import RandomForestRegressor\n",
    "from sklearn.metrics import mean_squared_error, r2_score\n",
    "import joblib\n"
   ]
  },
  {
   "cell_type": "code",
   "execution_count": null,
   "id": "5aa53848",
   "metadata": {},
   "outputs": [
    {
     "data": {
      "text/html": [
       "<div>\n",
       "<style scoped>\n",
       "    .dataframe tbody tr th:only-of-type {\n",
       "        vertical-align: middle;\n",
       "    }\n",
       "\n",
       "    .dataframe tbody tr th {\n",
       "        vertical-align: top;\n",
       "    }\n",
       "\n",
       "    .dataframe thead th {\n",
       "        text-align: right;\n",
       "    }\n",
       "</style>\n",
       "<table border=\"1\" class=\"dataframe\">\n",
       "  <thead>\n",
       "    <tr style=\"text-align: right;\">\n",
       "      <th></th>\n",
       "      <th>Province</th>\n",
       "      <th>Soil_Type</th>\n",
       "      <th>Rainfall_mm</th>\n",
       "      <th>Temperature_C</th>\n",
       "      <th>Fertilizer_kg_per_hectare</th>\n",
       "      <th>Seed_Variety</th>\n",
       "      <th>Pesticide_Usage</th>\n",
       "      <th>Yield_tons_per_hectare</th>\n",
       "    </tr>\n",
       "  </thead>\n",
       "  <tbody>\n",
       "    <tr>\n",
       "      <th>0</th>\n",
       "      <td>Southern</td>\n",
       "      <td>Sandy</td>\n",
       "      <td>826.7</td>\n",
       "      <td>21.8</td>\n",
       "      <td>126.2</td>\n",
       "      <td>Hybrid-B</td>\n",
       "      <td>Low</td>\n",
       "      <td>2.72</td>\n",
       "    </tr>\n",
       "    <tr>\n",
       "      <th>1</th>\n",
       "      <td>Copperbelt</td>\n",
       "      <td>Clay</td>\n",
       "      <td>599.7</td>\n",
       "      <td>25.8</td>\n",
       "      <td>80.5</td>\n",
       "      <td>Hybrid-A</td>\n",
       "      <td>High</td>\n",
       "      <td>2.77</td>\n",
       "    </tr>\n",
       "    <tr>\n",
       "      <th>2</th>\n",
       "      <td>Central</td>\n",
       "      <td>Loamy</td>\n",
       "      <td>857.0</td>\n",
       "      <td>21.5</td>\n",
       "      <td>63.9</td>\n",
       "      <td>Local</td>\n",
       "      <td>Low</td>\n",
       "      <td>2.23</td>\n",
       "    </tr>\n",
       "    <tr>\n",
       "      <th>3</th>\n",
       "      <td>Southern</td>\n",
       "      <td>Loamy</td>\n",
       "      <td>891.6</td>\n",
       "      <td>28.3</td>\n",
       "      <td>68.7</td>\n",
       "      <td>Hybrid-B</td>\n",
       "      <td>Medium</td>\n",
       "      <td>3.59</td>\n",
       "    </tr>\n",
       "    <tr>\n",
       "      <th>4</th>\n",
       "      <td>Southern</td>\n",
       "      <td>Loamy</td>\n",
       "      <td>884.0</td>\n",
       "      <td>26.2</td>\n",
       "      <td>85.4</td>\n",
       "      <td>Hybrid-B</td>\n",
       "      <td>High</td>\n",
       "      <td>4.76</td>\n",
       "    </tr>\n",
       "  </tbody>\n",
       "</table>\n",
       "</div>"
      ],
      "text/plain": [
       "     Province Soil_Type  Rainfall_mm  Temperature_C  \\\n",
       "0    Southern     Sandy        826.7           21.8   \n",
       "1  Copperbelt      Clay        599.7           25.8   \n",
       "2     Central     Loamy        857.0           21.5   \n",
       "3    Southern     Loamy        891.6           28.3   \n",
       "4    Southern     Loamy        884.0           26.2   \n",
       "\n",
       "   Fertilizer_kg_per_hectare Seed_Variety Pesticide_Usage  \\\n",
       "0                      126.2     Hybrid-B             Low   \n",
       "1                       80.5     Hybrid-A            High   \n",
       "2                       63.9        Local             Low   \n",
       "3                       68.7     Hybrid-B          Medium   \n",
       "4                       85.4     Hybrid-B            High   \n",
       "\n",
       "   Yield_tons_per_hectare  \n",
       "0                    2.72  \n",
       "1                    2.77  \n",
       "2                    2.23  \n",
       "3                    3.59  \n",
       "4                    4.76  "
      ]
     },
     "execution_count": 2,
     "metadata": {},
     "output_type": "execute_result"
    }
   ],
   "source": [
    "#Load Data\n",
    "url = 'https://raw.githubusercontent.com/ZED-AI-Lab/zed-ai-lab-arrant-engines/main/datasets/maize_yield_dataset.csv'\n",
    "df = pd.read_csv(url)\n",
    "df.head()\n"
   ]
  },
  {
   "cell_type": "code",
   "execution_count": null,
   "id": "9032ef7b",
   "metadata": {},
   "outputs": [
    {
     "name": "stdout",
     "output_type": "stream",
     "text": [
      "<class 'pandas.core.frame.DataFrame'>\n",
      "RangeIndex: 1000 entries, 0 to 999\n",
      "Data columns (total 8 columns):\n",
      " #   Column                     Non-Null Count  Dtype  \n",
      "---  ------                     --------------  -----  \n",
      " 0   Province                   1000 non-null   object \n",
      " 1   Soil_Type                  1000 non-null   object \n",
      " 2   Rainfall_mm                1000 non-null   float64\n",
      " 3   Temperature_C              1000 non-null   float64\n",
      " 4   Fertilizer_kg_per_hectare  1000 non-null   float64\n",
      " 5   Seed_Variety               1000 non-null   object \n",
      " 6   Pesticide_Usage            1000 non-null   object \n",
      " 7   Yield_tons_per_hectare     1000 non-null   float64\n",
      "dtypes: float64(4), object(4)\n",
      "memory usage: 62.6+ KB\n"
     ]
    }
   ],
   "source": [
    "\n",
    "df.info()\n"
   ]
  },
  {
   "cell_type": "code",
   "execution_count": 4,
   "id": "fcec6272",
   "metadata": {},
   "outputs": [
    {
     "data": {
      "image/png": "[encoded data removed]",
      "text/plain": [
       "<Figure size 1200x800 with 4 Axes>"
      ]
     },
     "metadata": {},
     "output_type": "display_data"
    }
   ],
   "source": [
    "# Visualize numerical features\n",
    "df.hist(figsize=(12, 8))\n",
    "plt.tight_layout()\n",
    "plt.show()\n"
   ]
  },
  {
   "cell_type": "code",
   "execution_count": 5,
   "id": "8d023869",
   "metadata": {},
   "outputs": [
    {
     "data": {
      "text/html": [
       "<div>\n",
       "<style scoped>\n",
       "    .dataframe tbody tr th:only-of-type {\n",
       "        vertical-align: middle;\n",
       "    }\n",
       "\n",
       "    .dataframe tbody tr th {\n",
       "        vertical-align: top;\n",
       "    }\n",
       "\n",
       "    .dataframe thead th {\n",
       "        text-align: right;\n",
       "    }\n",
       "</style>\n",
       "<table border=\"1\" class=\"dataframe\">\n",
       "  <thead>\n",
       "    <tr style=\"text-align: right;\">\n",
       "      <th></th>\n",
       "      <th>Province</th>\n",
       "      <th>Soil_Type</th>\n",
       "      <th>Rainfall_mm</th>\n",
       "      <th>Temperature_C</th>\n",
       "      <th>Fertilizer_kg_per_hectare</th>\n",
       "      <th>Seed_Variety</th>\n",
       "      <th>Pesticide_Usage</th>\n",
       "      <th>Yield_tons_per_hectare</th>\n",
       "    </tr>\n",
       "  </thead>\n",
       "  <tbody>\n",
       "    <tr>\n",
       "      <th>0</th>\n",
       "      <td>3</td>\n",
       "      <td>2</td>\n",
       "      <td>826.7</td>\n",
       "      <td>21.8</td>\n",
       "      <td>126.2</td>\n",
       "      <td>1</td>\n",
       "      <td>1</td>\n",
       "      <td>2.72</td>\n",
       "    </tr>\n",
       "    <tr>\n",
       "      <th>1</th>\n",
       "      <td>1</td>\n",
       "      <td>0</td>\n",
       "      <td>599.7</td>\n",
       "      <td>25.8</td>\n",
       "      <td>80.5</td>\n",
       "      <td>0</td>\n",
       "      <td>0</td>\n",
       "      <td>2.77</td>\n",
       "    </tr>\n",
       "    <tr>\n",
       "      <th>2</th>\n",
       "      <td>0</td>\n",
       "      <td>1</td>\n",
       "      <td>857.0</td>\n",
       "      <td>21.5</td>\n",
       "      <td>63.9</td>\n",
       "      <td>2</td>\n",
       "      <td>1</td>\n",
       "      <td>2.23</td>\n",
       "    </tr>\n",
       "    <tr>\n",
       "      <th>3</th>\n",
       "      <td>3</td>\n",
       "      <td>1</td>\n",
       "      <td>891.6</td>\n",
       "      <td>28.3</td>\n",
       "      <td>68.7</td>\n",
       "      <td>1</td>\n",
       "      <td>2</td>\n",
       "      <td>3.59</td>\n",
       "    </tr>\n",
       "    <tr>\n",
       "      <th>4</th>\n",
       "      <td>3</td>\n",
       "      <td>1</td>\n",
       "      <td>884.0</td>\n",
       "      <td>26.2</td>\n",
       "      <td>85.4</td>\n",
       "      <td>1</td>\n",
       "      <td>0</td>\n",
       "      <td>4.76</td>\n",
       "    </tr>\n",
       "  </tbody>\n",
       "</table>\n",
       "</div>"
      ],
      "text/plain": [
       "   Province  Soil_Type  Rainfall_mm  Temperature_C  Fertilizer_kg_per_hectare  \\\n",
       "0         3          2        826.7           21.8                      126.2   \n",
       "1         1          0        599.7           25.8                       80.5   \n",
       "2         0          1        857.0           21.5                       63.9   \n",
       "3         3          1        891.6           28.3                       68.7   \n",
       "4         3          1        884.0           26.2                       85.4   \n",
       "\n",
       "   Seed_Variety  Pesticide_Usage  Yield_tons_per_hectare  \n",
       "0             1                1                    2.72  \n",
       "1             0                0                    2.77  \n",
       "2             2                1                    2.23  \n",
       "3             1                2                    3.59  \n",
       "4             1                0                    4.76  "
      ]
     },
     "execution_count": 5,
     "metadata": {},
     "output_type": "execute_result"
    }
   ],
   "source": [
    "# Encode categorical variables\n",
    "le = LabelEncoder()\n",
    "for col in ['Province', 'Soil_Type', 'Seed_Variety', 'Pesticide_Usage']:\n",
    "    df[col] = le.fit_transform(df[col])\n",
    "df.head()\n"
   ]
  },
  {
   "cell_type": "code",
   "execution_count": 6,
   "id": "5aae6ccf",
   "metadata": {},
   "outputs": [],
   "source": [
    "X = df.drop('Yield_tons_per_hectare', axis=1)\n",
    "y = df['Yield_tons_per_hectare']\n",
    "X_train, X_test, y_train, y_test = train_test_split(X, y, test_size=0.2, random_state=42)\n"
   ]
  },
  {
   "cell_type": "code",
   "execution_count": 8,
   "id": "a1592283",
   "metadata": {},
   "outputs": [
    {
     "data": {
      "text/plain": [
       "['models/maize_yield_model.pkl']"
      ]
     },
     "execution_count": 8,
     "metadata": {},
     "output_type": "execute_result"
    }
   ],
   "source": [
    "import pandas as pd\n",
    "from sklearn.ensemble import RandomForestRegressor\n",
    "from sklearn.model_selection import train_test_split\n",
    "from sklearn.preprocessing import LabelEncoder\n",
    "import joblib\n",
    "import os\n",
    "\n",
    "# Load dataset\n",
    "url = 'https://raw.githubusercontent.com/ZED-AI-Lab/zed-ai-lab-arrant-engines/main/datasets/maize_yield_dataset.csv'\n",
    "df = pd.read_csv(url)\n",
    "\n",
    "# Encode categorical variables\n",
    "for col in ['Province', 'Soil_Type', 'Seed_Variety', 'Pesticide_Usage']:\n",
    "    df[col] = LabelEncoder().fit_transform(df[col])\n",
    "\n",
    "# Prepare data\n",
    "X = df.drop('Yield_tons_per_hectare', axis=1)\n",
    "y = df['Yield_tons_per_hectare']\n",
    "X_train, X_test, y_train, y_test = train_test_split(X, y, test_size=0.2, random_state=42)\n",
    "\n",
    "# Train model\n",
    "model = RandomForestRegressor(n_estimators=100, random_state=42)\n",
    "model.fit(X_train, y_train)\n",
    "\n",
    "# Save model to models folder\n",
    "os.makedirs(\"models\", exist_ok=True)\n",
    "joblib.dump(model, \"models/maize_yield_model.pkl\")\n"
   ]
  },
  {
   "cell_type": "code",
   "execution_count": null,
   "id": "db86506b",
   "metadata": {},
   "outputs": [],
   "source": []
  }
 ],
 "metadata": {
  "kernelspec": {
   "display_name": "Python 3 (ipykernel)",
   "language": "python",
   "name": "python3"
  },
  "language_info": {
   "codemirror_mode": {
    "name": "ipython",
    "version": 3
   },
   "file_extension": ".py",
   "mimetype": "text/x-python",
   "name": "python",
   "nbconvert_exporter": "python",
   "pygments_lexer": "ipython3",
   "version": "3.12.1"
  }
 },
 "nbformat": 4,
 "nbformat_minor": 5
}
