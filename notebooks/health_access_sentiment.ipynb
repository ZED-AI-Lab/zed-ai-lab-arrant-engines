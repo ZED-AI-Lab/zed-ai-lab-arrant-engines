{
 "cells": [
  {
   "cell_type": "markdown",
   "id": "3d8569ed",
   "metadata": {},
   "source": [
    "# 🏥 Health Access & Public Sentiment"
   ]
  },
  {
   "cell_type": "code",
   "execution_count": null,
   "id": "2201fd67",
   "metadata": {},
   "outputs": [],
   "source": [
    "import pandas as pd\n",
    "import matplotlib.pyplot as plt\n",
    "import seaborn as sns\n",
    "sns.set(style='whitegrid')"
   ]
  },
  {
   "cell_type": "code",
   "execution_count": null,
   "id": "59c9d7f7",
   "metadata": {},
   "outputs": [],
   "source": [
    "url = 'https://raw.githubusercontent.com/ZED-AI-Lab/zed-ai-lab-arrant-engines/main/datasets/health_access_sentiment.csv'\n",
    "df = pd.read_csv(url)\n",
    "df.head()"
   ]
  },
  {
   "cell_type": "code",
   "execution_count": null,
   "id": "1319e664",
   "metadata": {},
   "outputs": [],
   "source": [
    "df.info()"
   ]
  },
  {
   "cell_type": "code",
   "execution_count": null,
   "id": "e021fbdf",
   "metadata": {},
   "outputs": [],
   "source": [
    "df.describe()"
   ]
  },
  {
   "cell_type": "code",
   "execution_count": null,
   "id": "20d46d96",
   "metadata": {},
   "outputs": [],
   "source": [
    "# Satisfaction Score Distribution\n",
    "sns.histplot(data=df, x='Satisfaction_Score', bins=10, kde=True)\n",
    "plt.title('Distribution of Satisfaction Scores')\n",
    "plt.tight_layout()\n",
    "plt.show()"
   ]
  },
  {
   "cell_type": "code",
   "execution_count": null,
   "id": "960aebd4",
   "metadata": {},
   "outputs": [],
   "source": [
    "# Feedback Word Cloud\n",
    "from wordcloud import WordCloud\n",
    "text = ' '.join(df['Feedback'].dropna())\n",
    "wordcloud = WordCloud(width=800, height=400, background_color='white').generate(text)\n",
    "plt.imshow(wordcloud, interpolation='bilinear')\n",
    "plt.axis('off')\n",
    "plt.title('Word Cloud of Health Feedback')\n",
    "plt.show()"
   ]
  }
 ],
 "metadata": {
  "kernelspec": {
   "display_name": "Python 3 (ipykernel)",
   "language": "python",
   "name": "python3"
  }
 },
 "nbformat": 4,
 "nbformat_minor": 5
}
