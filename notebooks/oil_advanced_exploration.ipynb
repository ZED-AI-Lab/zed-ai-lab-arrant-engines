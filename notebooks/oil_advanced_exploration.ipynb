{
 "cells": [
  {
   "cell_type": "code",
   "execution_count": null,
   "id": "02ee04ff",
   "metadata": {},
   "outputs": [],
   "source": [
    "import pandas as pd\n",
    "import seaborn as sns\n",
    "import matplotlib.pyplot as plt\n",
    "\n",
    "# Load dataset for Oil\n",
    "url = \"https://raw.githubusercontent.com/ZED-AI-Lab/zed-ai-lab-arrant-engines/main/datasets/oil_dataset.csv\"\n",
    "df = pd.read_csv(url)\n",
    "\n",
    "# Preview data\n",
    "df.head()"
   ]
  },
  {
   "cell_type": "code",
   "execution_count": null,
   "id": "26b5d50b",
   "metadata": {},
   "outputs": [],
   "source": [
    "df.describe()"
   ]
  },
  {
   "cell_type": "code",
   "execution_count": null,
   "id": "e2539f23",
   "metadata": {},
   "outputs": [],
   "source": [
    "plt.figure(figsize=(10, 6))\n",
    "sns.heatmap(df.corr(numeric_only=True), annot=True, cmap='coolwarm')\n",
    "plt.title('Oil Sector - Correlation Heatmap')\n",
    "plt.show()"
   ]
  },
  {
   "cell_type": "code",
   "execution_count": null,
   "id": "0be645f2",
   "metadata": {},
   "outputs": [],
   "source": [
    "# Time series trend plot if 'Year' column exists\n",
    "if 'Year' in df.columns:\n",
    "    df_grouped = df.groupby('Year').mean(numeric_only=True)\n",
    "    df_grouped.plot(figsize=(10, 6), marker='o')\n",
    "    plt.title('Oil Sector - Time Series Trends')\n",
    "    plt.ylabel('Average Values')\n",
    "    plt.grid(True)\n",
    "    plt.show()"
   ]
  },
  {
   "cell_type": "code",
   "execution_count": null,
   "id": "7d9b72ea",
   "metadata": {},
   "outputs": [],
   "source": [
    "# Sector-specific visualization: Revenue vs. Production\n",
    "if {'Revenue', 'Production'}.issubset(df.columns):\n",
    "    plt.figure(figsize=(8, 5))\n",
    "    sns.scatterplot(data=df, x='Production', y='Revenue', hue='Region')\n",
    "    plt.title('Oil Sector - Revenue vs. Production')\n",
    "    plt.show()\n"
   ]
  }
 ],
 "metadata": {},
 "nbformat": 4,
 "nbformat_minor": 5
}
