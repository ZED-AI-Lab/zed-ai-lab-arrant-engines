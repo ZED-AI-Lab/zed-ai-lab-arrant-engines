{
 "cells": [
  {
   "cell_type": "markdown",
   "id": "79ff3abb",
   "metadata": {},
   "source": [
    "# Waste Management Monitoring"
   ]
  },
  {
   "cell_type": "code",
   "execution_count": null,
   "id": "c6fe3140",
   "metadata": {},
   "outputs": [],
   "source": [
    "import pandas as pd\n",
    "import matplotlib.pyplot as plt\n",
    "import seaborn as sns\n",
    "sns.set(style='whitegrid')"
   ]
  },
  {
   "cell_type": "code",
   "execution_count": null,
   "id": "08ca7656",
   "metadata": {},
   "outputs": [],
   "source": [
    "url = 'https://raw.githubusercontent.com/ZED-AI-Lab/zed-ai-lab-arrant-engines/main/datasets/waste_management_dataset.csv'\n",
    "df = pd.read_csv(url)\n",
    "df.head()"
   ]
  },
  {
   "cell_type": "code",
   "execution_count": null,
   "id": "6a594393",
   "metadata": {},
   "outputs": [],
   "source": [
    "df.info()"
   ]
  },
  {
   "cell_type": "code",
   "execution_count": null,
   "id": "8169bb15",
   "metadata": {},
   "outputs": [],
   "source": [
    "df.describe()"
   ]
  },
  {
   "cell_type": "code",
   "execution_count": null,
   "id": "3f0fac88",
   "metadata": {},
   "outputs": [],
   "source": [
    "# Waste Collection Trend\n",
    "sns.lineplot(data=df, x='Date', y='Waste_Collected_Tons', hue='City')\n",
    "plt.title('Waste Collection Over Time')\n",
    "plt.xticks(rotation=45)\n",
    "plt.tight_layout()\n",
    "plt.show()"
   ]
  },
  {
   "cell_type": "code",
   "execution_count": null,
   "id": "0e5fd6fc",
   "metadata": {},
   "outputs": [],
   "source": [
    "# Illegal Dumps Boxplot\n",
    "sns.boxplot(data=df, x='City', y='Illegal_Dumps_Reported')\n",
    "plt.title('Illegal Dumps by City')\n",
    "plt.tight_layout()\n",
    "plt.show()"
   ]
  }
 ],
 "metadata": {
  "language_info": {
   "name": "python"
  }
 },
 "nbformat": 4,
 "nbformat_minor": 5
}
