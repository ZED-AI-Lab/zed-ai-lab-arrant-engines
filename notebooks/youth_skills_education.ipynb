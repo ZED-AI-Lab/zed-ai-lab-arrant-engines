{
 "cells": [
  {
   "cell_type": "markdown",
   "id": "32dad02b",
   "metadata": {},
   "source": [
    "#  Youth Skills & Education Analytics"
   ]
  },
  {
   "cell_type": "code",
   "execution_count": null,
   "id": "b2f995bd",
   "metadata": {},
   "outputs": [],
   "source": [
    "import pandas as pd\n",
    "import matplotlib.pyplot as plt\n",
    "import seaborn as sns\n",
    "sns.set(style='whitegrid')"
   ]
  },
  {
   "cell_type": "code",
   "execution_count": null,
   "id": "488491b8",
   "metadata": {},
   "outputs": [],
   "source": [
    "url = 'https://raw.githubusercontent.com/ZED-AI-Lab/zed-ai-lab-arrant-engines/main/datasets/youth_skills_education.csv'\n",
    "df = pd.read_csv(url)\n",
    "df.head()"
   ]
  },
  {
   "cell_type": "code",
   "execution_count": null,
   "id": "87d8a6e9",
   "metadata": {},
   "outputs": [],
   "source": [
    "df.info()"
   ]
  },
  {
   "cell_type": "code",
   "execution_count": null,
   "id": "9539d74c",
   "metadata": {},
   "outputs": [],
   "source": [
    "df.describe()"
   ]
  },
  {
   "cell_type": "code",
   "execution_count": null,
   "id": "6b2ae67c",
   "metadata": {},
   "outputs": [],
   "source": [
    "# Subject Scores Boxplot\n",
    "sns.boxplot(data=df[['Math_Score', 'English_Score', 'ICT_Score']])\n",
    "plt.title('Distribution of Subject Scores')\n",
    "plt.tight_layout()\n",
    "plt.show()"
   ]
  },
  {
   "cell_type": "code",
   "execution_count": null,
   "id": "697c83a4",
   "metadata": {},
   "outputs": [],
   "source": [
    "# Career Interest Distribution\n",
    "sns.countplot(data=df, x='Career_Interest')\n",
    "plt.title('Career Interests Among Students')\n",
    "plt.xticks(rotation=45)\n",
    "plt.tight_layout()\n",
    "plt.show()"
   ]
  }
 ],
 "metadata": {
  "language_info": {
   "name": "python"
  }
 },
 "nbformat": 4,
 "nbformat_minor": 5
}
