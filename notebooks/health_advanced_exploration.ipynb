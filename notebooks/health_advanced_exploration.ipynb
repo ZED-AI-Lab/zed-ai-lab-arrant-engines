{
 "cells": [
  {
   "cell_type": "code",
   "execution_count": null,
   "id": "01a0d57f",
   "metadata": {},
   "outputs": [
    {
     "ename": "",
     "evalue": "",
     "output_type": "error",
     "traceback": [
      "\u001b[1;31mFailed to connect to remote Jupyter Server.\n",
      "\u001b[1;31mCheck that the Jupyter Server URL can be reached from a browser.\n",
      "\u001b[1;31mhttps://jupyter-server-q7gq59j6gw7cxvqv-8888.app.github.dev/. Click <a href='https://aka.ms/vscjremoteweb'>here</a> for more information."
     ]
    }
   ],
   "source": [
    "import pandas as pd\n",
    "import seaborn as sns\n",
    "import matplotlib.pyplot as plt\n",
    "\n",
    "# Load dataset for Health\n",
    "url = \"https://raw.githubusercontent.com/ZED-AI-Lab/zed-ai-lab-arrant-engines/main/datasets/health_dataset.csv\"\n",
    "df = pd.read_csv(url)\n",
    "\n",
    "# Preview data\n",
    "df.head()"
   ]
  },
  {
   "cell_type": "code",
   "execution_count": null,
   "id": "3b7b143a",
   "metadata": {},
   "outputs": [],
   "source": [
    "df.describe()"
   ]
  },
  {
   "cell_type": "code",
   "execution_count": null,
   "id": "996f2a3c",
   "metadata": {},
   "outputs": [],
   "source": [
    "plt.figure(figsize=(10, 6))\n",
    "sns.heatmap(df.corr(numeric_only=True), annot=True, cmap='coolwarm')\n",
    "plt.title('Health Sector - Correlation Heatmap')\n",
    "plt.show()"
   ]
  },
  {
   "cell_type": "code",
   "execution_count": null,
   "id": "7e6a4e3b",
   "metadata": {},
   "outputs": [],
   "source": [
    "# Time series trend plot if 'Year' column exists\n",
    "if 'Year' in df.columns:\n",
    "    df_grouped = df.groupby('Year').mean(numeric_only=True)\n",
    "    df_grouped.plot(figsize=(10, 6), marker='o')\n",
    "    plt.title('Health Sector - Time Series Trends')\n",
    "    plt.ylabel('Average Values')\n",
    "    plt.grid(True)\n",
    "    plt.show()"
   ]
  },
  {
   "cell_type": "code",
   "execution_count": null,
   "id": "af98be78",
   "metadata": {},
   "outputs": [],
   "source": [
    "# Sector-specific visualization: Healthcare Expenditure vs. Hospital Visits\n",
    "if {'HealthcareExpenditure', 'HospitalVisits'}.issubset(df.columns):\n",
    "    plt.figure(figsize=(8, 5))\n",
    "    sns.scatterplot(data=df, x='HealthcareExpenditure', y='HospitalVisits', hue='Region')\n",
    "    plt.title('Health Sector - Expenditure vs. Hospital Visits')\n",
    "    plt.show()\n"
   ]
  }
 ],
 "metadata": {
  "kernelspec": {
   "display_name": "Python 3 (ipykernel)",
   "language": "python",
   "name": "python3"
  }
 },
 "nbformat": 4,
 "nbformat_minor": 5
}
