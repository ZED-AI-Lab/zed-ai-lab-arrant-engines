{
 "cells": [
  {
   "cell_type": "code",
   "execution_count": null,
   "id": "9dd5f48d",
   "metadata": {},
   "outputs": [],
   "source": [
    "import pandas as pd\n",
    "import seaborn as sns\n",
    "import matplotlib.pyplot as plt\n",
    "\n",
    "# Load dataset for Mining\n",
    "url = \"https://raw.githubusercontent.com/ZED-AI-Lab/zed-ai-lab-arrant-engines/main/datasets/mining_dataset.csv\"\n",
    "df = pd.read_csv(url)\n",
    "\n",
    "# Preview data\n",
    "df.head()"
   ]
  },
  {
   "cell_type": "code",
   "execution_count": null,
   "id": "ef07fda1",
   "metadata": {},
   "outputs": [],
   "source": [
    "df.describe()"
   ]
  },
  {
   "cell_type": "code",
   "execution_count": null,
   "id": "711376e2",
   "metadata": {},
   "outputs": [],
   "source": [
    "plt.figure(figsize=(10, 6))\n",
    "sns.heatmap(df.corr(numeric_only=True), annot=True, cmap='coolwarm')\n",
    "plt.title('Mining Sector - Correlation Heatmap')\n",
    "plt.show()"
   ]
  },
  {
   "cell_type": "code",
   "execution_count": null,
   "id": "ce7e98ab",
   "metadata": {},
   "outputs": [],
   "source": [
    "# Time series trend plot if 'Year' column exists\n",
    "if 'Year' in df.columns:\n",
    "    df_grouped = df.groupby('Year').mean(numeric_only=True)\n",
    "    df_grouped.plot(figsize=(10, 6), marker='o')\n",
    "    plt.title('Mining Sector - Time Series Trends')\n",
    "    plt.ylabel('Average Values')\n",
    "    plt.grid(True)\n",
    "    plt.show()"
   ]
  },
  {
   "cell_type": "code",
   "execution_count": null,
   "id": "1c69eec6",
   "metadata": {},
   "outputs": [],
   "source": [
    "# Sector-specific visualization: Mineral Type Distribution\n",
    "if 'MineralType' in df.columns:\n",
    "    plt.figure(figsize=(8, 5))\n",
    "    df['MineralType'].value_counts().plot(kind='bar', color='orange')\n",
    "    plt.title('Mining Sector - Mineral Type Distribution')\n",
    "    plt.ylabel('Count')\n",
    "    plt.show()\n"
   ]
  }
 ],
 "metadata": {},
 "nbformat": 4,
 "nbformat_minor": 5
}
